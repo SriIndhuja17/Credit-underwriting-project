{
 "cells": [
  {
   "cell_type": "code",
   "execution_count": 1,
   "id": "3eb55fec-aa57-4272-9ae5-92748519f41e",
   "metadata": {},
   "outputs": [
    {
     "name": "stdout",
     "output_type": "stream",
     "text": [
      "Accuracy: 0.99\n",
      "Classification Report:\n",
      "              precision    recall  f1-score   support\n",
      "\n",
      "           0       0.99      0.99      0.99       544\n",
      "           1       0.99      0.99      0.99       519\n",
      "\n",
      "    accuracy                           0.99      1063\n",
      "   macro avg       0.99      0.99      0.99      1063\n",
      "weighted avg       0.99      0.99      0.99      1063\n",
      "\n"
     ]
    }
   ],
   "source": [
    "import pandas as pd\n",
    "import joblib\n",
    "from sklearn.model_selection import train_test_split\n",
    "from sklearn.ensemble import GradientBoostingClassifier\n",
    "from sklearn.preprocessing import LabelEncoder\n",
    "from sklearn.metrics import accuracy_score, classification_report\n",
    "\n",
    "# Load the dataset\n",
    "file_path = \"C:/Users/Hemalatha/Downloads/Credit_Underwriting_Dataset.csv\"  # Update the file path as needed\n",
    "data = pd.read_csv(file_path)\n",
    "\n",
    "# Preprocessing\n",
    "# Encode categorical variables\n",
    "categorical_columns = ['gender', 'marital_status', 'employee_status', 'residence_type', 'loan_purpose']\n",
    "label_encoders = {}\n",
    "for col in categorical_columns:\n",
    "    le = LabelEncoder()\n",
    "    data[col] = le.fit_transform(data[col])\n",
    "    label_encoders[col] = le\n",
    "\n",
    "# Encode the target variable\n",
    "label_encoder_status = LabelEncoder()\n",
    "data['loan_status'] = label_encoder_status.fit_transform(data['loan_status'])\n",
    "\n",
    "# Define features and target\n",
    "X = data.drop(columns=['loan_id', 'loan_status'])  # Exclude ID and target\n",
    "y = data['loan_status']\n",
    "\n",
    "# Split the dataset into training and testing sets\n",
    "X_train, X_test, y_train, y_test = train_test_split(X, y, test_size=0.2, random_state=42)\n",
    "\n",
    "# Initialize the Gradient Boosting Classifier\n",
    "model = GradientBoostingClassifier(random_state=42)\n",
    "\n",
    "# Train the model\n",
    "model.fit(X_train, y_train)\n",
    "\n",
    "# Save the model with feature names explicitly added\n",
    "model.feature_names_in_ = X.columns.tolist()\n",
    "joblib.dump(model, 'best_features_model.pkl')\n",
    "\n",
    "# Evaluate the model\n",
    "y_pred = model.predict(X_test)\n",
    "accuracy = accuracy_score(y_test, y_pred)\n",
    "classification_report_result = classification_report(y_test, y_pred)\n",
    "\n",
    "print(f\"Accuracy: {accuracy:.2f}\")\n",
    "print(\"Classification Report:\")\n",
    "print(classification_report_result)"
   ]
  },
  {
   "cell_type": "code",
   "execution_count": null,
   "id": "788240d8-5621-4f3a-a402-69b98313f5e3",
   "metadata": {},
   "outputs": [],
   "source": []
  }
 ],
 "metadata": {
  "kernelspec": {
   "display_name": "Python 3 (ipykernel)",
   "language": "python",
   "name": "python3"
  },
  "language_info": {
   "codemirror_mode": {
    "name": "ipython",
    "version": 3
   },
   "file_extension": ".py",
   "mimetype": "text/x-python",
   "name": "python",
   "nbconvert_exporter": "python",
   "pygments_lexer": "ipython3",
   "version": "3.11.7"
  }
 },
 "nbformat": 4,
 "nbformat_minor": 5
}
